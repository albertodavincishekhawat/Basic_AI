{
 "cells": [
  {
   "cell_type": "code",
   "execution_count": 1,
   "id": "4ebe4d80-1701-4801-86be-4f956465e4cf",
   "metadata": {},
   "outputs": [],
   "source": [
    "import numpy as np\n",
    "import matplotlib.pyplot as plt\n",
    "import seaborn as sns"
   ]
  },
  {
   "cell_type": "code",
   "execution_count": 2,
   "id": "eaa598fc-4681-4401-9245-2e657e2832dc",
   "metadata": {},
   "outputs": [],
   "source": [
    "# Activation Function\n",
    "def sigmoid(x):\n",
    "    return 1 / (1+np.exp(-x))"
   ]
  },
  {
   "cell_type": "code",
   "execution_count": 3,
   "id": "43b9fac4-87b8-4f20-b5cd-949b2d70c1c1",
   "metadata": {},
   "outputs": [],
   "source": [
    "# Derivative of the activation function for backpropogation\n",
    "def sigmoid_derivative(x):\n",
    "    return x * (1 - x)"
   ]
  },
  {
   "cell_type": "code",
   "execution_count": 15,
   "id": "2e72dae1-00e3-490a-9aa7-59c71d56cc45",
   "metadata": {},
   "outputs": [],
   "source": [
    "# Input for XOR gate and Expected Output\n",
    "inputs = np.array([[0, 0], [0, 1], [1, 0], [1, 1]])\n",
    "outputs = np.array([[0], [1], [1], [0]])"
   ]
  },
  {
   "cell_type": "code",
   "execution_count": 16,
   "id": "d4be594e-5611-49b8-bb03-30116d23d077",
   "metadata": {},
   "outputs": [],
   "source": [
    "# 2 input neuron, 2 hidden neuron and 1 output neuron\n",
    "input_layer_neurons = 2\n",
    "hidden_layer_neurons = 2\n",
    "output_layer_neurons = 1"
   ]
  },
  {
   "cell_type": "code",
   "execution_count": 17,
   "id": "df4ded26-afb6-4081-a0e0-7bbbf31ea05b",
   "metadata": {},
   "outputs": [],
   "source": [
    "# Weights and Biases\n",
    "weights_input_hidden = np.random.uniform(size=(input_layer_neurons, hidden_layer_neurons))\n",
    "weights_hidden_output = np.random.uniform(size=(hidden_layer_neurons, output_layer_neurons))\n",
    "bias_hidden = np.random.uniform(size=(1, hidden_layer_neurons))\n",
    "bias_output = np.random.uniform(size=(1, output_layer_neurons))"
   ]
  },
  {
   "cell_type": "code",
   "execution_count": 18,
   "id": "e9837424-04f4-4819-bac4-2d7f8f0e0a4d",
   "metadata": {
    "scrolled": true
   },
   "outputs": [
    {
     "data": {
      "text/plain": [
       "(array([[0.54286836, 0.73908954],\n",
       "        [0.60540654, 0.64497066]]),\n",
       " array([[0.47377344],\n",
       "        [0.59507074]]),\n",
       " array([[0.76146436, 0.90828199]]),\n",
       " array([[0.36007229]]))"
      ]
     },
     "execution_count": 18,
     "metadata": {},
     "output_type": "execute_result"
    }
   ],
   "source": [
    "weights_input_hidden, weights_hidden_output, bias_hidden, bias_output"
   ]
  },
  {
   "cell_type": "code",
   "execution_count": 19,
   "id": "467fb053-51af-48a8-9442-e2272b05f62d",
   "metadata": {},
   "outputs": [],
   "source": [
    "learning_rate = 0.1\n",
    "epochs = 100000"
   ]
  },
  {
   "cell_type": "code",
   "execution_count": 20,
   "id": "c277183f-96ac-48cf-a40c-067e69ddb04e",
   "metadata": {},
   "outputs": [],
   "source": [
    "loss = []\n",
    "for i in range(epochs):\n",
    "    # Forward Propogation / Feed Forward\n",
    "    hidden_input = np.dot(inputs, weights_input_hidden) + bias_hidden\n",
    "    hidden_output = sigmoid(hidden_input)\n",
    "\n",
    "    final_input = np.dot(hidden_output, weights_hidden_output) + bias_output\n",
    "    final_output = sigmoid(final_input)\n",
    "\n",
    "    # Calculating Error = difference between predicted and actual\n",
    "    error = outputs - final_output\n",
    "\n",
    "    # Backpropogation\n",
    "    # Calculate the derivative of error w.r.t. output\n",
    "    d_output = error * sigmoid_derivative(final_output)\n",
    "\n",
    "    # Calculate the error for hidden layer \n",
    "    error_hidden = d_output.dot(weights_hidden_output.T)\n",
    "    d_hidden = error_hidden * sigmoid_derivative(hidden_output)\n",
    "\n",
    "    # Updating weights and biases using Gradient Descent\n",
    "    weights_hidden_output += hidden_output.T.dot(d_output) * learning_rate\n",
    "    weights_input_hidden += inputs.T.dot(d_hidden) * learning_rate\n",
    "\n",
    "    bias_output += np.sum(d_output, axis=0, keepdims=True) * learning_rate\n",
    "    bias_hidden += np.sum(d_hidden, axis=0, keepdims=True) * learning_rate\n",
    "\n",
    "    # loss record\n",
    "    if epochs % 100 ==0:\n",
    "        loss.append(np.mean(np.abs(error)))"
   ]
  },
  {
   "cell_type": "code",
   "execution_count": 21,
   "id": "0b603997-ce31-4a17-94dd-8d9f679e87d6",
   "metadata": {},
   "outputs": [
    {
     "name": "stdout",
     "output_type": "stream",
     "text": [
      "Input: [0 0], Predicted Output: [0.]\n",
      "Input: [0 1], Predicted Output: [1.]\n",
      "Input: [1 0], Predicted Output: [1.]\n",
      "Input: [1 1], Predicted Output: [0.]\n"
     ]
    }
   ],
   "source": [
    "for i, inp in enumerate(inputs):\n",
    "    hidden_input = np.dot(inp, weights_input_hidden) + bias_hidden\n",
    "    hidden_output = sigmoid(hidden_input)\n",
    "\n",
    "    final_input = np.dot(hidden_output, weights_hidden_output) + bias_output\n",
    "    final_output = sigmoid(final_input)\n",
    "\n",
    "    print(f\"Input: {inp}, Predicted Output: {np.round(final_output)[0]}\")"
   ]
  },
  {
   "cell_type": "code",
   "execution_count": 22,
   "id": "d97cfa74-d012-4ed6-8d40-f892413d3ab3",
   "metadata": {},
   "outputs": [
    {
     "data": {
      "image/png": "[encoded data removed]",
      "text/plain": [
       "<Figure size 800x500 with 1 Axes>"
      ]
     },
     "metadata": {},
     "output_type": "display_data"
    }
   ],
   "source": [
    "plt.figure(figsize=(8, 5))\n",
    "plt.scatter(range(100000), loss)\n",
    "plt.show()"
   ]
  },
  {
   "cell_type": "code",
   "execution_count": 12,
   "id": "5866cd09-da3b-4b68-ba15-d3bbfef8b24e",
   "metadata": {},
   "outputs": [
    {
     "data": {
      "text/plain": [
       "array([[0.9883901]])"
      ]
     },
     "execution_count": 12,
     "metadata": {},
     "output_type": "execute_result"
    }
   ],
   "source": [
    "final_output"
   ]
  },
  {
   "cell_type": "code",
   "execution_count": null,
   "id": "6561e386-7e3c-4dee-a8bd-b65bbd7f67fb",
   "metadata": {},
   "outputs": [],
   "source": []
  }
 ],
 "metadata": {
  "kernelspec": {
   "display_name": "Python 3 (ipykernel)",
   "language": "python",
   "name": "python3"
  },
  "language_info": {
   "codemirror_mode": {
    "name": "ipython",
    "version": 3
   },
   "file_extension": ".py",
   "mimetype": "text/x-python",
   "name": "python",
   "nbconvert_exporter": "python",
   "pygments_lexer": "ipython3",
   "version": "3.11.7"
  },
  "widgets": {
   "application/vnd.jupyter.widget-state+json": {
    "state": {},
    "version_major": 2,
    "version_minor": 0
   }
  }
 },
 "nbformat": 4,
 "nbformat_minor": 5
}
