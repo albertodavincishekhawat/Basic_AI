{
 "cells": [
  {
   "cell_type": "code",
   "execution_count": 1,
   "id": "76932bfc-05ff-46d3-8d26-9f92c5fba735",
   "metadata": {},
   "outputs": [],
   "source": [
    "import numpy as np"
   ]
  },
  {
   "cell_type": "code",
   "execution_count": 2,
   "id": "74bc14f3-8824-44e9-98cb-2d7cc9c6b021",
   "metadata": {},
   "outputs": [
    {
     "data": {
      "text/plain": [
       "array([[0, 0],\n",
       "       [0, 1],\n",
       "       [1, 0],\n",
       "       [1, 1]])"
      ]
     },
     "execution_count": 2,
     "metadata": {},
     "output_type": "execute_result"
    }
   ],
   "source": [
    "input = np.array([[0, 0], [0, 1], [1, 0], [1, 1]])\n",
    "input"
   ]
  },
  {
   "cell_type": "code",
   "execution_count": 3,
   "id": "933f34d1-0e58-40b8-ace4-831d89655442",
   "metadata": {},
   "outputs": [
    {
     "data": {
      "text/plain": [
       "array([0, 0, 0, 1])"
      ]
     },
     "execution_count": 3,
     "metadata": {},
     "output_type": "execute_result"
    }
   ],
   "source": [
    "AND_out = np.array([0, 0, 0, 1])\n",
    "AND_out"
   ]
  },
  {
   "cell_type": "code",
   "execution_count": 4,
   "id": "3877ec7f-8e68-4e6b-9fcf-e72f90867ffb",
   "metadata": {},
   "outputs": [
    {
     "data": {
      "text/plain": [
       "array([0, 1, 1, 1])"
      ]
     },
     "execution_count": 4,
     "metadata": {},
     "output_type": "execute_result"
    }
   ],
   "source": [
    "OR_out = np.array([0, 1, 1, 1])\n",
    "OR_out"
   ]
  },
  {
   "cell_type": "code",
   "execution_count": 5,
   "id": "33b081ae-da4f-47a2-afbe-136d4cf7a53f",
   "metadata": {},
   "outputs": [
    {
     "data": {
      "text/plain": [
       "array([0, 0, 0, 1])"
      ]
     },
     "execution_count": 5,
     "metadata": {},
     "output_type": "execute_result"
    }
   ],
   "source": [
    "AND_Function = np.array([1 if np.sum(i) > 1.5 else 0 for i in input])\n",
    "AND_Function"
   ]
  },
  {
   "cell_type": "code",
   "execution_count": 6,
   "id": "4e91c3a0-1056-4f24-953a-fc3bae771bfb",
   "metadata": {},
   "outputs": [
    {
     "data": {
      "text/plain": [
       "True"
      ]
     },
     "execution_count": 6,
     "metadata": {},
     "output_type": "execute_result"
    }
   ],
   "source": [
    "np.allclose(AND_out, AND_Function)"
   ]
  },
  {
   "cell_type": "code",
   "execution_count": 7,
   "id": "805df9d5-03d9-433c-9836-6233353833a6",
   "metadata": {},
   "outputs": [
    {
     "data": {
      "text/plain": [
       "array([0, 1, 1, 1])"
      ]
     },
     "execution_count": 7,
     "metadata": {},
     "output_type": "execute_result"
    }
   ],
   "source": [
    "OR_Function = np.array([1 if np.sum(i) > 0.5 else 0 for i in input])\n",
    "OR_Function"
   ]
  },
  {
   "cell_type": "code",
   "execution_count": 8,
   "id": "f01925c1-8254-4d18-b183-51e75e16ed62",
   "metadata": {},
   "outputs": [
    {
     "data": {
      "text/plain": [
       "True"
      ]
     },
     "execution_count": 8,
     "metadata": {},
     "output_type": "execute_result"
    }
   ],
   "source": [
    "np.allclose(OR_out, OR_Function)"
   ]
  },
  {
   "cell_type": "code",
   "execution_count": null,
   "id": "b4518f10-9cb6-4ac4-a9d0-6a48da31c09b",
   "metadata": {},
   "outputs": [],
   "source": []
  },
  {
   "cell_type": "code",
   "execution_count": null,
   "id": "06ee0e91",
   "metadata": {},
   "outputs": [],
   "source": []
  }
 ],
 "metadata": {
  "kernelspec": {
   "display_name": "Python 3",
   "language": "python",
   "name": "python3"
  },
  "language_info": {
   "codemirror_mode": {
    "name": "ipython",
    "version": 3
   },
   "file_extension": ".py",
   "mimetype": "text/x-python",
   "name": "python",
   "nbconvert_exporter": "python",
   "pygments_lexer": "ipython3",
   "version": "3.11.5"
  },
  "widgets": {
   "application/vnd.jupyter.widget-state+json": {
    "state": {},
    "version_major": 2,
    "version_minor": 0
   }
  }
 },
 "nbformat": 4,
 "nbformat_minor": 5
}
