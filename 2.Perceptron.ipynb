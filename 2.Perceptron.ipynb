{
 "cells": [
  {
   "cell_type": "code",
   "execution_count": 1,
   "id": "06a0b38c-7984-4dc3-89f6-e4bad433b2ab",
   "metadata": {},
   "outputs": [],
   "source": [
    "import numpy as np"
   ]
  },
  {
   "cell_type": "code",
   "execution_count": 50,
   "id": "abf4eaf1-978c-4431-93aa-76eb73d1cd78",
   "metadata": {},
   "outputs": [],
   "source": [
    "class Perceptron:\n",
    "    def __init__(self, inp_dim, learning_rate, epochs):\n",
    "        self.lr = learning_rate\n",
    "        self.epochs = epochs\n",
    "        self.weight = np.random.rand(inp_dim)\n",
    "        self.bias = np.random.rand()\n",
    "        self.error_ls = []\n",
    "\n",
    "    def step_function(self, x):\n",
    "        return 1 if x >= 10 else 0\n",
    "\n",
    "    def predict(self, input):\n",
    "        weighted_sum = np.dot(input, self.weight)+self.bias\n",
    "        return self.step_function(weighted_sum)\n",
    "\n",
    "    def fit(self, inp, out):\n",
    "        for i in range(self.epochs):\n",
    "            for j in range(len(inp)):\n",
    "                y_pred = self.predict(inp[j])\n",
    "                error = out[j] - y_pred\n",
    "                self.error_ls.append(error)\n",
    "\n",
    "                self.weight += (self.lr * error * inp[j])   # self.weight = self.weight + (self.lr * error * inp[j])\n",
    "                self.bias += (self.lr * error)"
   ]
  },
  {
   "cell_type": "code",
   "execution_count": 51,
   "id": "0857bbfe-3d7e-4d2d-918f-ea0739734cf2",
   "metadata": {},
   "outputs": [],
   "source": [
    "inp_data = np.array([[0, 0], [0, 1], [1, 0], [1, 1]])"
   ]
  },
  {
   "cell_type": "code",
   "execution_count": 52,
   "id": "d8a427de-fcbf-4359-a26d-6c0d8ab4ba3f",
   "metadata": {},
   "outputs": [],
   "source": [
    "out_AND = np.array([0, 0, 0, 1])"
   ]
  },
  {
   "cell_type": "code",
   "execution_count": 53,
   "id": "e2ce7078-c802-4f28-8a3f-55b9798fb0b7",
   "metadata": {},
   "outputs": [],
   "source": [
    "AND_model = Perceptron(inp_dim=2, epochs=1000, learning_rate=0.5)"
   ]
  },
  {
   "cell_type": "code",
   "execution_count": 54,
   "id": "e88610ec-1c03-4133-9062-8cd55b66ee23",
   "metadata": {},
   "outputs": [],
   "source": [
    "AND_model.fit(inp_data, out_AND)"
   ]
  },
  {
   "cell_type": "code",
   "execution_count": 55,
   "id": "914bc90a-34fd-4568-931a-80b28441f193",
   "metadata": {},
   "outputs": [
    {
     "data": {
      "text/plain": [
       "0"
      ]
     },
     "execution_count": 55,
     "metadata": {},
     "output_type": "execute_result"
    }
   ],
   "source": [
    "AND_model.predict([1, 0])"
   ]
  },
  {
   "cell_type": "code",
   "execution_count": 56,
   "id": "ad3c7309-76a6-43f4-90ef-7edc558c7acd",
   "metadata": {},
   "outputs": [
    {
     "data": {
      "text/plain": [
       "1"
      ]
     },
     "execution_count": 56,
     "metadata": {},
     "output_type": "execute_result"
    }
   ],
   "source": [
    "AND_model.predict([1, 1])"
   ]
  },
  {
   "cell_type": "code",
   "execution_count": 57,
   "id": "dce53304-9b38-4427-8deb-c38a3c2b655f",
   "metadata": {},
   "outputs": [
    {
     "data": {
      "text/plain": [
       "0"
      ]
     },
     "execution_count": 57,
     "metadata": {},
     "output_type": "execute_result"
    }
   ],
   "source": [
    "AND_model.predict([0, 0])"
   ]
  },
  {
   "cell_type": "code",
   "execution_count": 58,
   "id": "760f780e-e503-4bae-a4b8-42554a363344",
   "metadata": {},
   "outputs": [],
   "source": [
    "out_OR = np.array([0, 1, 1, 1])"
   ]
  },
  {
   "cell_type": "code",
   "execution_count": 59,
   "id": "4dd1f3e2-de70-41a3-890f-9e6083fde0f6",
   "metadata": {},
   "outputs": [],
   "source": [
    "OR_model = Perceptron(inp_dim=2, epochs=1000, learning_rate=0.5)"
   ]
  },
  {
   "cell_type": "code",
   "execution_count": 60,
   "id": "cf4c5aec-9aa0-4fb4-9ef2-fb6078bc301b",
   "metadata": {},
   "outputs": [],
   "source": [
    "OR_model.fit(inp_data, out_OR)"
   ]
  },
  {
   "cell_type": "code",
   "execution_count": 61,
   "id": "3dd2786e-42c7-40b0-b1dd-fbf21a84929b",
   "metadata": {},
   "outputs": [
    {
     "data": {
      "text/plain": [
       "1"
      ]
     },
     "execution_count": 61,
     "metadata": {},
     "output_type": "execute_result"
    }
   ],
   "source": [
    "OR_model.predict([0, 1])"
   ]
  },
  {
   "cell_type": "code",
   "execution_count": 62,
   "id": "5371caec-f457-4e45-a5d4-92c74413722f",
   "metadata": {},
   "outputs": [
    {
     "data": {
      "text/plain": [
       "0"
      ]
     },
     "execution_count": 62,
     "metadata": {},
     "output_type": "execute_result"
    }
   ],
   "source": [
    "OR_model.predict([0, 0])"
   ]
  },
  {
   "cell_type": "code",
   "execution_count": 63,
   "id": "c3e65475-e37c-4b4d-9bb7-a71d0bd1d845",
   "metadata": {},
   "outputs": [
    {
     "data": {
      "text/plain": [
       "1"
      ]
     },
     "execution_count": 63,
     "metadata": {},
     "output_type": "execute_result"
    }
   ],
   "source": [
    "OR_model.predict([1, 0])"
   ]
  },
  {
   "cell_type": "code",
   "execution_count": 64,
   "id": "4f1a8306-be26-492e-b994-d2cacedae356",
   "metadata": {},
   "outputs": [
    {
     "data": {
      "text/plain": [
       "1"
      ]
     },
     "execution_count": 64,
     "metadata": {},
     "output_type": "execute_result"
    }
   ],
   "source": [
    "OR_model.predict([1, 1])"
   ]
  },
  {
   "cell_type": "code",
   "execution_count": 65,
   "id": "1e3d5338-1d83-43d1-9eb3-65f65a1e7315",
   "metadata": {},
   "outputs": [
    {
     "data": {
      "text/plain": [
       "(array([3.74500004, 3.62958321]), 3.731730275042486)"
      ]
     },
     "execution_count": 65,
     "metadata": {},
     "output_type": "execute_result"
    }
   ],
   "source": [
    "AND_model.weight, AND_model.bias"
   ]
  },
  {
   "cell_type": "code",
   "execution_count": 66,
   "id": "60fc1913-12e0-48ec-b2a8-d60a1ce9035e",
   "metadata": {},
   "outputs": [
    {
     "data": {
      "text/plain": [
       "(array([3.88079597, 4.33152374]), 6.553259606092183)"
      ]
     },
     "execution_count": 66,
     "metadata": {},
     "output_type": "execute_result"
    }
   ],
   "source": [
    "OR_model.weight, OR_model.bias"
   ]
  },
  {
   "cell_type": "code",
   "execution_count": null,
   "id": "3cc6ea85-2308-43e4-a7ae-159491337f94",
   "metadata": {},
   "outputs": [],
   "source": []
  },
  {
   "cell_type": "code",
   "execution_count": 67,
   "id": "4bac2e48-8cfc-4333-8d02-776220c9d4d8",
   "metadata": {},
   "outputs": [],
   "source": [
    "import matplotlib.pyplot as plt"
   ]
  },
  {
   "cell_type": "code",
   "execution_count": 68,
   "id": "47386579-72b3-4909-97e4-253248c7dab1",
   "metadata": {
    "scrolled": true
   },
   "outputs": [
    {
     "data": {
      "text/plain": [
       "[<matplotlib.lines.Line2D at 0x204e1359910>]"
      ]
     },
     "execution_count": 68,
     "metadata": {},
     "output_type": "execute_result"
    },
    {
     "data": {
      "image/png": "[encoded data removed]",
      "text/plain": [
       "<Figure size 640x480 with 1 Axes>"
      ]
     },
     "metadata": {},
     "output_type": "display_data"
    }
   ],
   "source": [
    "plt.plot(AND_model.error_ls)"
   ]
  },
  {
   "cell_type": "code",
   "execution_count": 69,
   "id": "9e1da48d-ee06-4f3a-b287-ec9ec0e27deb",
   "metadata": {
    "scrolled": true
   },
   "outputs": [
    {
     "data": {
      "text/plain": [
       "[<matplotlib.lines.Line2D at 0x204e1385ad0>]"
      ]
     },
     "execution_count": 69,
     "metadata": {},
     "output_type": "execute_result"
    },
    {
     "data": {
      "image/png": "[encoded data removed]",
      "text/plain": [
       "<Figure size 640x480 with 1 Axes>"
      ]
     },
     "metadata": {},
     "output_type": "display_data"
    }
   ],
   "source": [
    "plt.plot(OR_model.error_ls)"
   ]
  },
  {
   "cell_type": "code",
   "execution_count": null,
   "id": "7e104256-9038-401f-9452-f2c2dc456a8a",
   "metadata": {},
   "outputs": [],
   "source": []
  },
  {
   "cell_type": "code",
   "execution_count": 100,
   "id": "87bdca7f-6831-492f-9a6e-9e241370c8fd",
   "metadata": {},
   "outputs": [],
   "source": [
    "out_XOR = np.array([0, 1, 1, 0])"
   ]
  },
  {
   "cell_type": "code",
   "execution_count": 104,
   "id": "836f28dc-08fa-4f4a-94a8-9121944ae552",
   "metadata": {},
   "outputs": [],
   "source": [
    "XOR_model = Perceptron(inp_dim=2, learning_rate=1.2, epochs=10000)"
   ]
  },
  {
   "cell_type": "code",
   "execution_count": 105,
   "id": "aa369b14-4e94-464a-933d-d1a22ee1ec73",
   "metadata": {},
   "outputs": [],
   "source": [
    "XOR_model.fit(inp_data, out_XOR)"
   ]
  },
  {
   "cell_type": "code",
   "execution_count": 106,
   "id": "74fb457d-51e4-447e-845a-2ad1b2b45f78",
   "metadata": {},
   "outputs": [
    {
     "name": "stdout",
     "output_type": "stream",
     "text": [
      "1\n",
      "1\n",
      "0\n",
      "0\n"
     ]
    }
   ],
   "source": [
    "for i in inp_data:\n",
    "    print(XOR_model.predict(i))"
   ]
  },
  {
   "cell_type": "code",
   "execution_count": null,
   "id": "73ba7218-cb45-4480-9101-58eabd6ac05d",
   "metadata": {},
   "outputs": [],
   "source": []
  },
  {
   "cell_type": "code",
   "execution_count": null,
   "id": "20daf868-1312-4df1-98a2-f99b0fd1385f",
   "metadata": {},
   "outputs": [],
   "source": []
  }
 ],
 "metadata": {
  "kernelspec": {
   "display_name": "Python 3 (ipykernel)",
   "language": "python",
   "name": "python3"
  },
  "language_info": {
   "codemirror_mode": {
    "name": "ipython",
    "version": 3
   },
   "file_extension": ".py",
   "mimetype": "text/x-python",
   "name": "python",
   "nbconvert_exporter": "python",
   "pygments_lexer": "ipython3",
   "version": "3.11.7"
  },
  "widgets": {
   "application/vnd.jupyter.widget-state+json": {
    "state": {},
    "version_major": 2,
    "version_minor": 0
   }
  }
 },
 "nbformat": 4,
 "nbformat_minor": 5
}
