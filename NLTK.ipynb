{
 "cells": [
  {
   "cell_type": "markdown",
   "metadata": {},
   "source": [
    "# Sentiment analysis **NLTK** "
   ]
  },
  {
   "cell_type": "code",
   "execution_count": 1,
   "metadata": {},
   "outputs": [
    {
     "name": "stderr",
     "output_type": "stream",
     "text": [
      "[nltk_data] Error loading averaged_perceptron_tagger: <urlopen error\n",
      "[nltk_data]     [Errno 11001] getaddrinfo failed>\n"
     ]
    },
    {
     "data": {
      "text/plain": [
       "False"
      ]
     },
     "execution_count": 1,
     "metadata": {},
     "output_type": "execute_result"
    }
   ],
   "source": [
    "import nltk\n",
    "# nltk.download(\"all-corpora\")\n",
    "# nltk.download(\"wordnet\")\n",
    "# nltk.download(\"punkt\")\n",
    "# nltk.download(\"stopwords\")\n",
    "# nltk.download(\"popular\")\n",
    "# nltk.download(\"punkt_tab\")\n",
    "nltk.download('averaged_perceptron_tagger')"
   ]
  },
  {
   "cell_type": "code",
   "execution_count": 2,
   "metadata": {},
   "outputs": [],
   "source": [
    "from nltk.tokenize import word_tokenize, sent_tokenize\n",
    "from nltk.corpus import stopwords\n",
    "\n",
    "import numpy as np"
   ]
  },
  {
   "cell_type": "code",
   "execution_count": 3,
   "metadata": {},
   "outputs": [],
   "source": [
    "text = \"Indian people or Indians are the citizens and nationals of the Republic of India. In 2022, the population of India stood at 1.4 billion people, of various ethnic groups. According to United Nations forecasts, India overtook China as the world's most populous country by the end of April 2023, containing 17.50 percent of the global population.In addition to the Indian population, the Indian overseas diaspora also boasts large numbers, particularly in the Arab states of the Persian Gulf, former British colonies, and the Western world.\""
   ]
  },
  {
   "cell_type": "code",
   "execution_count": 4,
   "metadata": {},
   "outputs": [
    {
     "data": {
      "text/plain": [
       "\"Indian people or Indians are the citizens and nationals of the Republic of India. In 2022, the population of India stood at 1.4 billion people, of various ethnic groups. According to United Nations forecasts, India overtook China as the world's most populous country by the end of April 2023, containing 17.50 percent of the global population.In addition to the Indian population, the Indian overseas diaspora also boasts large numbers, particularly in the Arab states of the Persian Gulf, former British colonies, and the Western world.\""
      ]
     },
     "execution_count": 4,
     "metadata": {},
     "output_type": "execute_result"
    }
   ],
   "source": [
    "text"
   ]
  },
  {
   "cell_type": "markdown",
   "metadata": {},
   "source": [
    "# What does \"word_tokenize\" do? "
   ]
  },
  {
   "cell_type": "code",
   "execution_count": 5,
   "metadata": {},
   "outputs": [],
   "source": [
    "words = word_tokenize(text)"
   ]
  },
  {
   "cell_type": "code",
   "execution_count": 6,
   "metadata": {},
   "outputs": [
    {
     "data": {
      "text/plain": [
       "['Indian',\n",
       " 'people',\n",
       " 'or',\n",
       " 'Indians',\n",
       " 'are',\n",
       " 'the',\n",
       " 'citizens',\n",
       " 'and',\n",
       " 'nationals',\n",
       " 'of',\n",
       " 'the',\n",
       " 'Republic',\n",
       " 'of',\n",
       " 'India',\n",
       " '.',\n",
       " 'In',\n",
       " '2022',\n",
       " ',',\n",
       " 'the',\n",
       " 'population',\n",
       " 'of',\n",
       " 'India',\n",
       " 'stood',\n",
       " 'at',\n",
       " '1.4',\n",
       " 'billion',\n",
       " 'people',\n",
       " ',',\n",
       " 'of',\n",
       " 'various',\n",
       " 'ethnic',\n",
       " 'groups',\n",
       " '.',\n",
       " 'According',\n",
       " 'to',\n",
       " 'United',\n",
       " 'Nations',\n",
       " 'forecasts',\n",
       " ',',\n",
       " 'India',\n",
       " 'overtook',\n",
       " 'China',\n",
       " 'as',\n",
       " 'the',\n",
       " 'world',\n",
       " \"'s\",\n",
       " 'most',\n",
       " 'populous',\n",
       " 'country',\n",
       " 'by',\n",
       " 'the',\n",
       " 'end',\n",
       " 'of',\n",
       " 'April',\n",
       " '2023',\n",
       " ',',\n",
       " 'containing',\n",
       " '17.50',\n",
       " 'percent',\n",
       " 'of',\n",
       " 'the',\n",
       " 'global',\n",
       " 'population.In',\n",
       " 'addition',\n",
       " 'to',\n",
       " 'the',\n",
       " 'Indian',\n",
       " 'population',\n",
       " ',',\n",
       " 'the',\n",
       " 'Indian',\n",
       " 'overseas',\n",
       " 'diaspora',\n",
       " 'also',\n",
       " 'boasts',\n",
       " 'large',\n",
       " 'numbers',\n",
       " ',',\n",
       " 'particularly',\n",
       " 'in',\n",
       " 'the',\n",
       " 'Arab',\n",
       " 'states',\n",
       " 'of',\n",
       " 'the',\n",
       " 'Persian',\n",
       " 'Gulf',\n",
       " ',',\n",
       " 'former',\n",
       " 'British',\n",
       " 'colonies',\n",
       " ',',\n",
       " 'and',\n",
       " 'the',\n",
       " 'Western',\n",
       " 'world',\n",
       " '.']"
      ]
     },
     "execution_count": 6,
     "metadata": {},
     "output_type": "execute_result"
    }
   ],
   "source": [
    "words"
   ]
  },
  {
   "cell_type": "code",
   "execution_count": 7,
   "metadata": {},
   "outputs": [],
   "source": [
    "sentences = sent_tokenize(text) # for sentences"
   ]
  },
  {
   "cell_type": "code",
   "execution_count": 8,
   "metadata": {},
   "outputs": [
    {
     "name": "stdout",
     "output_type": "stream",
     "text": [
      "Sentences 1->Indian people or Indians are the citizens and nationals of the Republic of India.\n",
      "Sentences 2->In 2022, the population of India stood at 1.4 billion people, of various ethnic groups.\n",
      "Sentences 3->According to United Nations forecasts, India overtook China as the world's most populous country by the end of April 2023, containing 17.50 percent of the global population.In addition to the Indian population, the Indian overseas diaspora also boasts large numbers, particularly in the Arab states of the Persian Gulf, former British colonies, and the Western world.\n"
     ]
    }
   ],
   "source": [
    "for i,j in enumerate(sentences):\n",
    "    print(f\"Sentences {i+1}->{j}\")"
   ]
  },
  {
   "cell_type": "code",
   "execution_count": 9,
   "metadata": {},
   "outputs": [],
   "source": [
    "from nltk.probability import FreqDist"
   ]
  },
  {
   "cell_type": "code",
   "execution_count": 10,
   "metadata": {},
   "outputs": [
    {
     "data": {
      "text/plain": [
       "FreqDist({'the': 11, ',': 8, 'of': 7, 'Indian': 3, 'India': 3, '.': 3, 'people': 2, 'and': 2, 'population': 2, 'to': 2, ...})"
      ]
     },
     "execution_count": 10,
     "metadata": {},
     "output_type": "execute_result"
    }
   ],
   "source": [
    "freq = FreqDist(words)\n",
    "freq"
   ]
  },
  {
   "cell_type": "code",
   "execution_count": 11,
   "metadata": {},
   "outputs": [
    {
     "name": "stdout",
     "output_type": "stream",
     "text": [
      "Indian:3\n",
      "people:2\n",
      "or:1\n",
      "Indians:1\n",
      "are:1\n",
      "the:11\n",
      "citizens:1\n",
      "and:2\n",
      "nationals:1\n",
      "of:7\n",
      "Republic:1\n",
      "India:3\n",
      ".:3\n",
      "In:1\n",
      "2022:1\n",
      ",:8\n",
      "population:2\n",
      "stood:1\n",
      "at:1\n",
      "1.4:1\n",
      "billion:1\n",
      "various:1\n",
      "ethnic:1\n",
      "groups:1\n",
      "According:1\n",
      "to:2\n",
      "United:1\n",
      "Nations:1\n",
      "forecasts:1\n",
      "overtook:1\n",
      "China:1\n",
      "as:1\n",
      "world:2\n",
      "'s:1\n",
      "most:1\n",
      "populous:1\n",
      "country:1\n",
      "by:1\n",
      "end:1\n",
      "April:1\n",
      "2023:1\n",
      "containing:1\n",
      "17.50:1\n",
      "percent:1\n",
      "global:1\n",
      "population.In:1\n",
      "addition:1\n",
      "overseas:1\n",
      "diaspora:1\n",
      "also:1\n",
      "boasts:1\n",
      "large:1\n",
      "numbers:1\n",
      "particularly:1\n",
      "in:1\n",
      "Arab:1\n",
      "states:1\n",
      "Persian:1\n",
      "Gulf:1\n",
      "former:1\n",
      "British:1\n",
      "colonies:1\n",
      "Western:1\n"
     ]
    }
   ],
   "source": [
    "for i,j in freq.items():\n",
    "    print(i+\":\"+str(j))"
   ]
  },
  {
   "cell_type": "code",
   "execution_count": 12,
   "metadata": {},
   "outputs": [
    {
     "data": {
      "text/plain": [
       "[('the', 11),\n",
       " (',', 8),\n",
       " ('of', 7),\n",
       " ('Indian', 3),\n",
       " ('India', 3),\n",
       " ('.', 3),\n",
       " ('people', 2),\n",
       " ('and', 2),\n",
       " ('population', 2),\n",
       " ('to', 2),\n",
       " ('world', 2),\n",
       " ('or', 1),\n",
       " ('Indians', 1),\n",
       " ('are', 1),\n",
       " ('citizens', 1),\n",
       " ('nationals', 1),\n",
       " ('Republic', 1),\n",
       " ('In', 1),\n",
       " ('2022', 1),\n",
       " ('stood', 1),\n",
       " ('at', 1),\n",
       " ('1.4', 1),\n",
       " ('billion', 1),\n",
       " ('various', 1),\n",
       " ('ethnic', 1),\n",
       " ('groups', 1),\n",
       " ('According', 1),\n",
       " ('United', 1),\n",
       " ('Nations', 1),\n",
       " ('forecasts', 1),\n",
       " ('overtook', 1),\n",
       " ('China', 1),\n",
       " ('as', 1),\n",
       " (\"'s\", 1),\n",
       " ('most', 1),\n",
       " ('populous', 1),\n",
       " ('country', 1),\n",
       " ('by', 1),\n",
       " ('end', 1),\n",
       " ('April', 1),\n",
       " ('2023', 1),\n",
       " ('containing', 1),\n",
       " ('17.50', 1),\n",
       " ('percent', 1),\n",
       " ('global', 1),\n",
       " ('population.In', 1),\n",
       " ('addition', 1),\n",
       " ('overseas', 1),\n",
       " ('diaspora', 1),\n",
       " ('also', 1),\n",
       " ('boasts', 1),\n",
       " ('large', 1),\n",
       " ('numbers', 1),\n",
       " ('particularly', 1),\n",
       " ('in', 1),\n",
       " ('Arab', 1),\n",
       " ('states', 1),\n",
       " ('Persian', 1),\n",
       " ('Gulf', 1),\n",
       " ('former', 1),\n",
       " ('British', 1),\n",
       " ('colonies', 1),\n",
       " ('Western', 1)]"
      ]
     },
     "execution_count": 12,
     "metadata": {},
     "output_type": "execute_result"
    }
   ],
   "source": [
    "freq.most_common()"
   ]
  },
  {
   "cell_type": "code",
   "execution_count": 13,
   "metadata": {},
   "outputs": [],
   "source": [
    "stop_words = set(stopwords.words(\"english\"))"
   ]
  },
  {
   "cell_type": "code",
   "execution_count": 14,
   "metadata": {},
   "outputs": [
    {
     "data": {
      "text/plain": [
       "{'a',\n",
       " 'about',\n",
       " 'above',\n",
       " 'after',\n",
       " 'again',\n",
       " 'against',\n",
       " 'ain',\n",
       " 'all',\n",
       " 'am',\n",
       " 'an',\n",
       " 'and',\n",
       " 'any',\n",
       " 'are',\n",
       " 'aren',\n",
       " \"aren't\",\n",
       " 'as',\n",
       " 'at',\n",
       " 'be',\n",
       " 'because',\n",
       " 'been',\n",
       " 'before',\n",
       " 'being',\n",
       " 'below',\n",
       " 'between',\n",
       " 'both',\n",
       " 'but',\n",
       " 'by',\n",
       " 'can',\n",
       " 'couldn',\n",
       " \"couldn't\",\n",
       " 'd',\n",
       " 'did',\n",
       " 'didn',\n",
       " \"didn't\",\n",
       " 'do',\n",
       " 'does',\n",
       " 'doesn',\n",
       " \"doesn't\",\n",
       " 'doing',\n",
       " 'don',\n",
       " \"don't\",\n",
       " 'down',\n",
       " 'during',\n",
       " 'each',\n",
       " 'few',\n",
       " 'for',\n",
       " 'from',\n",
       " 'further',\n",
       " 'had',\n",
       " 'hadn',\n",
       " \"hadn't\",\n",
       " 'has',\n",
       " 'hasn',\n",
       " \"hasn't\",\n",
       " 'have',\n",
       " 'haven',\n",
       " \"haven't\",\n",
       " 'having',\n",
       " 'he',\n",
       " 'her',\n",
       " 'here',\n",
       " 'hers',\n",
       " 'herself',\n",
       " 'him',\n",
       " 'himself',\n",
       " 'his',\n",
       " 'how',\n",
       " 'i',\n",
       " 'if',\n",
       " 'in',\n",
       " 'into',\n",
       " 'is',\n",
       " 'isn',\n",
       " \"isn't\",\n",
       " 'it',\n",
       " \"it's\",\n",
       " 'its',\n",
       " 'itself',\n",
       " 'just',\n",
       " 'll',\n",
       " 'm',\n",
       " 'ma',\n",
       " 'me',\n",
       " 'mightn',\n",
       " \"mightn't\",\n",
       " 'more',\n",
       " 'most',\n",
       " 'mustn',\n",
       " \"mustn't\",\n",
       " 'my',\n",
       " 'myself',\n",
       " 'needn',\n",
       " \"needn't\",\n",
       " 'no',\n",
       " 'nor',\n",
       " 'not',\n",
       " 'now',\n",
       " 'o',\n",
       " 'of',\n",
       " 'off',\n",
       " 'on',\n",
       " 'once',\n",
       " 'only',\n",
       " 'or',\n",
       " 'other',\n",
       " 'our',\n",
       " 'ours',\n",
       " 'ourselves',\n",
       " 'out',\n",
       " 'over',\n",
       " 'own',\n",
       " 're',\n",
       " 's',\n",
       " 'same',\n",
       " 'shan',\n",
       " \"shan't\",\n",
       " 'she',\n",
       " \"she's\",\n",
       " 'should',\n",
       " \"should've\",\n",
       " 'shouldn',\n",
       " \"shouldn't\",\n",
       " 'so',\n",
       " 'some',\n",
       " 'such',\n",
       " 't',\n",
       " 'than',\n",
       " 'that',\n",
       " \"that'll\",\n",
       " 'the',\n",
       " 'their',\n",
       " 'theirs',\n",
       " 'them',\n",
       " 'themselves',\n",
       " 'then',\n",
       " 'there',\n",
       " 'these',\n",
       " 'they',\n",
       " 'this',\n",
       " 'those',\n",
       " 'through',\n",
       " 'to',\n",
       " 'too',\n",
       " 'under',\n",
       " 'until',\n",
       " 'up',\n",
       " 've',\n",
       " 'very',\n",
       " 'was',\n",
       " 'wasn',\n",
       " \"wasn't\",\n",
       " 'we',\n",
       " 'were',\n",
       " 'weren',\n",
       " \"weren't\",\n",
       " 'what',\n",
       " 'when',\n",
       " 'where',\n",
       " 'which',\n",
       " 'while',\n",
       " 'who',\n",
       " 'whom',\n",
       " 'why',\n",
       " 'will',\n",
       " 'with',\n",
       " 'won',\n",
       " \"won't\",\n",
       " 'wouldn',\n",
       " \"wouldn't\",\n",
       " 'y',\n",
       " 'you',\n",
       " \"you'd\",\n",
       " \"you'll\",\n",
       " \"you're\",\n",
       " \"you've\",\n",
       " 'your',\n",
       " 'yours',\n",
       " 'yourself',\n",
       " 'yourselves'}"
      ]
     },
     "execution_count": 14,
     "metadata": {},
     "output_type": "execute_result"
    }
   ],
   "source": [
    "stop_words"
   ]
  },
  {
   "cell_type": "code",
   "execution_count": 15,
   "metadata": {},
   "outputs": [
    {
     "data": {
      "text/plain": [
       "['Indian',\n",
       " 'people',\n",
       " 'Indians',\n",
       " 'citizens',\n",
       " 'nationals',\n",
       " 'Republic',\n",
       " 'India',\n",
       " '.',\n",
       " 'In',\n",
       " '2022',\n",
       " ',',\n",
       " 'population',\n",
       " 'India',\n",
       " 'stood',\n",
       " '1.4',\n",
       " 'billion',\n",
       " 'people',\n",
       " ',',\n",
       " 'various',\n",
       " 'ethnic',\n",
       " 'groups',\n",
       " '.',\n",
       " 'According',\n",
       " 'United',\n",
       " 'Nations',\n",
       " 'forecasts',\n",
       " ',',\n",
       " 'India',\n",
       " 'overtook',\n",
       " 'China',\n",
       " 'world',\n",
       " \"'s\",\n",
       " 'populous',\n",
       " 'country',\n",
       " 'end',\n",
       " 'April',\n",
       " '2023',\n",
       " ',',\n",
       " 'containing',\n",
       " '17.50',\n",
       " 'percent',\n",
       " 'global',\n",
       " 'population.In',\n",
       " 'addition',\n",
       " 'Indian',\n",
       " 'population',\n",
       " ',',\n",
       " 'Indian',\n",
       " 'overseas',\n",
       " 'diaspora',\n",
       " 'also',\n",
       " 'boasts',\n",
       " 'large',\n",
       " 'numbers',\n",
       " ',',\n",
       " 'particularly',\n",
       " 'Arab',\n",
       " 'states',\n",
       " 'Persian',\n",
       " 'Gulf',\n",
       " ',',\n",
       " 'former',\n",
       " 'British',\n",
       " 'colonies',\n",
       " ',',\n",
       " 'Western',\n",
       " 'world',\n",
       " '.']"
      ]
     },
     "execution_count": 15,
     "metadata": {},
     "output_type": "execute_result"
    }
   ],
   "source": [
    "words_without_stopwords = [i for i in words if i not in stop_words]\n",
    "words_without_stopwords"
   ]
  },
  {
   "cell_type": "code",
   "execution_count": 16,
   "metadata": {},
   "outputs": [
    {
     "data": {
      "text/plain": [
       "97"
      ]
     },
     "execution_count": 16,
     "metadata": {},
     "output_type": "execute_result"
    }
   ],
   "source": [
    "len(words)"
   ]
  },
  {
   "cell_type": "code",
   "execution_count": 17,
   "metadata": {},
   "outputs": [
    {
     "data": {
      "text/plain": [
       "68"
      ]
     },
     "execution_count": 17,
     "metadata": {},
     "output_type": "execute_result"
    }
   ],
   "source": [
    "len(words_without_stopwords)"
   ]
  },
  {
   "cell_type": "code",
   "execution_count": 18,
   "metadata": {},
   "outputs": [
    {
     "data": {
      "text/plain": [
       "['Indian',\n",
       " 'people',\n",
       " 'or',\n",
       " 'Indians',\n",
       " 'are',\n",
       " 'the',\n",
       " 'citizens',\n",
       " 'and',\n",
       " 'nationals',\n",
       " 'of',\n",
       " 'the',\n",
       " 'Republic',\n",
       " 'of',\n",
       " 'India',\n",
       " 'In',\n",
       " '2022',\n",
       " 'the',\n",
       " 'population',\n",
       " 'of',\n",
       " 'India',\n",
       " 'stood',\n",
       " 'at',\n",
       " '1.4',\n",
       " 'billion',\n",
       " 'people',\n",
       " 'of',\n",
       " 'various',\n",
       " 'ethnic',\n",
       " 'groups',\n",
       " 'According',\n",
       " 'to',\n",
       " 'United',\n",
       " 'Nations',\n",
       " 'forecasts',\n",
       " 'India',\n",
       " 'overtook',\n",
       " 'China',\n",
       " 'as',\n",
       " 'the',\n",
       " 'world',\n",
       " \"'s\",\n",
       " 'most',\n",
       " 'populous',\n",
       " 'country',\n",
       " 'by',\n",
       " 'the',\n",
       " 'end',\n",
       " 'of',\n",
       " 'April',\n",
       " '2023',\n",
       " 'containing',\n",
       " '17.50',\n",
       " 'percent',\n",
       " 'of',\n",
       " 'the',\n",
       " 'global',\n",
       " 'population.In',\n",
       " 'addition',\n",
       " 'to',\n",
       " 'the',\n",
       " 'Indian',\n",
       " 'population',\n",
       " 'the',\n",
       " 'Indian',\n",
       " 'overseas',\n",
       " 'diaspora',\n",
       " 'also',\n",
       " 'boasts',\n",
       " 'large',\n",
       " 'numbers',\n",
       " 'particularly',\n",
       " 'in',\n",
       " 'the',\n",
       " 'Arab',\n",
       " 'states',\n",
       " 'of',\n",
       " 'the',\n",
       " 'Persian',\n",
       " 'Gulf',\n",
       " 'former',\n",
       " 'British',\n",
       " 'colonies',\n",
       " 'and',\n",
       " 'the',\n",
       " 'Western',\n",
       " 'world']"
      ]
     },
     "execution_count": 18,
     "metadata": {},
     "output_type": "execute_result"
    }
   ],
   "source": [
    "words_without_punckt = [i for i in  words if i.lower() not in \".,/?|\"]\n",
    "words_without_punckt"
   ]
  },
  {
   "cell_type": "code",
   "execution_count": 19,
   "metadata": {},
   "outputs": [
    {
     "data": {
      "text/plain": [
       "86"
      ]
     },
     "execution_count": 19,
     "metadata": {},
     "output_type": "execute_result"
    }
   ],
   "source": [
    "len(words_without_punckt)"
   ]
  },
  {
   "cell_type": "code",
   "execution_count": 20,
   "metadata": {},
   "outputs": [
    {
     "data": {
      "text/plain": [
       "['Indian',\n",
       " 'people',\n",
       " 'or',\n",
       " 'Indians',\n",
       " 'are',\n",
       " 'the',\n",
       " 'citizens',\n",
       " 'and',\n",
       " 'nationals',\n",
       " 'of',\n",
       " 'the',\n",
       " 'Republic',\n",
       " 'of',\n",
       " 'India',\n",
       " 'In',\n",
       " 'the',\n",
       " 'population',\n",
       " 'of',\n",
       " 'India',\n",
       " 'stood',\n",
       " 'at',\n",
       " 'billion',\n",
       " 'people',\n",
       " 'of',\n",
       " 'various',\n",
       " 'ethnic',\n",
       " 'groups',\n",
       " 'According',\n",
       " 'to',\n",
       " 'United',\n",
       " 'Nations',\n",
       " 'forecasts',\n",
       " 'India',\n",
       " 'overtook',\n",
       " 'China',\n",
       " 'as',\n",
       " 'the',\n",
       " 'world',\n",
       " 'most',\n",
       " 'populous',\n",
       " 'country',\n",
       " 'by',\n",
       " 'the',\n",
       " 'end',\n",
       " 'of',\n",
       " 'April',\n",
       " 'containing',\n",
       " 'percent',\n",
       " 'of',\n",
       " 'the',\n",
       " 'global',\n",
       " 'addition',\n",
       " 'to',\n",
       " 'the',\n",
       " 'Indian',\n",
       " 'population',\n",
       " 'the',\n",
       " 'Indian',\n",
       " 'overseas',\n",
       " 'diaspora',\n",
       " 'also',\n",
       " 'boasts',\n",
       " 'large',\n",
       " 'numbers',\n",
       " 'particularly',\n",
       " 'in',\n",
       " 'the',\n",
       " 'Arab',\n",
       " 'states',\n",
       " 'of',\n",
       " 'the',\n",
       " 'Persian',\n",
       " 'Gulf',\n",
       " 'former',\n",
       " 'British',\n",
       " 'colonies',\n",
       " 'and',\n",
       " 'the',\n",
       " 'Western',\n",
       " 'world']"
      ]
     },
     "execution_count": 20,
     "metadata": {},
     "output_type": "execute_result"
    }
   ],
   "source": [
    "final_words = [i for i in words_without_punckt if i.lower().isalpha()]\n",
    "final_words"
   ]
  },
  {
   "cell_type": "markdown",
   "metadata": {},
   "source": [
    "# Performing Stemming"
   ]
  },
  {
   "cell_type": "code",
   "execution_count": 21,
   "metadata": {},
   "outputs": [],
   "source": [
    "from nltk.stem import PorterStemmer, LancasterStemmer"
   ]
  },
  {
   "cell_type": "code",
   "execution_count": 22,
   "metadata": {},
   "outputs": [],
   "source": [
    "exp = [\"affected\",\"Affects\",\"affecting\", \"affection\", \"affect\"]"
   ]
  },
  {
   "cell_type": "code",
   "execution_count": 23,
   "metadata": {},
   "outputs": [],
   "source": [
    "post = PorterStemmer()"
   ]
  },
  {
   "cell_type": "code",
   "execution_count": 24,
   "metadata": {},
   "outputs": [],
   "source": [
    "exp_post = [post.stem(i) for i in exp]"
   ]
  },
  {
   "cell_type": "code",
   "execution_count": 25,
   "metadata": {},
   "outputs": [
    {
     "data": {
      "text/plain": [
       "['affect', 'affect', 'affect', 'affect', 'affect']"
      ]
     },
     "execution_count": 25,
     "metadata": {},
     "output_type": "execute_result"
    }
   ],
   "source": [
    "exp_post"
   ]
  },
  {
   "cell_type": "code",
   "execution_count": 26,
   "metadata": {},
   "outputs": [],
   "source": [
    "last = LancasterStemmer()"
   ]
  },
  {
   "cell_type": "code",
   "execution_count": 27,
   "metadata": {},
   "outputs": [
    {
     "data": {
      "text/plain": [
       "['affect', 'affect', 'affect', 'affect', 'affect']"
      ]
     },
     "execution_count": 27,
     "metadata": {},
     "output_type": "execute_result"
    }
   ],
   "source": [
    "exp_last = [last.stem(i) for i in exp]\n",
    "exp_last"
   ]
  },
  {
   "cell_type": "code",
   "execution_count": 28,
   "metadata": {},
   "outputs": [],
   "source": [
    "new = [\"enjoy\",'enjoyable', 'running','cake','positivity','inspiration','creativity','motivational']"
   ]
  },
  {
   "cell_type": "code",
   "execution_count": 29,
   "metadata": {},
   "outputs": [
    {
     "data": {
      "text/plain": [
       "['enjoy', 'enjoy', 'run', 'cake', 'posit', 'inspir', 'creativ', 'motiv']"
      ]
     },
     "execution_count": 29,
     "metadata": {},
     "output_type": "execute_result"
    }
   ],
   "source": [
    "[post.stem(i) for i in new]"
   ]
  },
  {
   "cell_type": "code",
   "execution_count": 30,
   "metadata": {},
   "outputs": [
    {
     "data": {
      "text/plain": [
       "['enjoy', 'enjoy', 'run', 'cak', 'posit', 'inspir', 'cre', 'mot']"
      ]
     },
     "execution_count": 30,
     "metadata": {},
     "output_type": "execute_result"
    }
   ],
   "source": [
    "[last.stem(i) for i in new]"
   ]
  },
  {
   "cell_type": "code",
   "execution_count": 31,
   "metadata": {},
   "outputs": [],
   "source": [
    "from nltk import wordnet\n",
    "lemmas = wordnet.WordNetLemmatizer()"
   ]
  },
  {
   "cell_type": "code",
   "execution_count": 32,
   "metadata": {},
   "outputs": [
    {
     "data": {
      "text/plain": [
       "['enjoy',\n",
       " 'enjoyable',\n",
       " 'running',\n",
       " 'cake',\n",
       " 'positivity',\n",
       " 'inspiration',\n",
       " 'creativity',\n",
       " 'motivational']"
      ]
     },
     "execution_count": 32,
     "metadata": {},
     "output_type": "execute_result"
    }
   ],
   "source": [
    "lemm_words = [lemmas.lemmatize(i,\"n\")for i in new]\n",
    "lemm_words"
   ]
  },
  {
   "cell_type": "code",
   "execution_count": 33,
   "metadata": {},
   "outputs": [
    {
     "data": {
      "text/plain": [
       "['enjoy',\n",
       " 'enjoyable',\n",
       " 'running',\n",
       " 'cake',\n",
       " 'positivity',\n",
       " 'inspiration',\n",
       " 'creativity',\n",
       " 'motivational']"
      ]
     },
     "execution_count": 33,
     "metadata": {},
     "output_type": "execute_result"
    }
   ],
   "source": [
    "[lemmas.lemmatize(i, \"n\") for i in new]"
   ]
  },
  {
   "cell_type": "code",
   "execution_count": 34,
   "metadata": {},
   "outputs": [
    {
     "name": "stdout",
     "output_type": "stream",
     "text": [
      "Original - affected | Noun - affected | Verb - affect | Adjective - affected | Satellite Adjective - affected\n",
      "Original - Affects | Noun - Affects | Verb - Affects | Adjective - Affects | Satellite Adjective - Affects\n",
      "Original - affecting | Noun - affecting | Verb - affect | Adjective - affecting | Satellite Adjective - affecting\n",
      "Original - affection | Noun - affection | Verb - affection | Adjective - affection | Satellite Adjective - affection\n",
      "Original - affect | Noun - affect | Verb - affect | Adjective - affect | Satellite Adjective - affect\n"
     ]
    }
   ],
   "source": [
    "for i in exp:\n",
    "    print(\"Original -\",i,\"| Noun -\",lemmas.lemmatize(i, \"n\"), \"| Verb -\",lemmas.lemmatize(i, \"v\"), \"| Adjective -\",lemmas.lemmatize(i, \"a\"), \"| Satellite Adjective -\",lemmas.lemmatize(i, \"s\"))"
   ]
  },
  {
   "cell_type": "code",
   "execution_count": 35,
   "metadata": {},
   "outputs": [
    {
     "name": "stdout",
     "output_type": "stream",
     "text": [
      "Original - enjoy | Noun - enjoy | Verb - enjoy | Adjective - enjoy | Satellite Adjective - enjoy\n",
      "Original - enjoyable | Noun - enjoyable | Verb - enjoyable | Adjective - enjoyable | Satellite Adjective - enjoyable\n",
      "Original - running | Noun - running | Verb - run | Adjective - running | Satellite Adjective - running\n",
      "Original - cake | Noun - cake | Verb - cake | Adjective - cake | Satellite Adjective - cake\n",
      "Original - positivity | Noun - positivity | Verb - positivity | Adjective - positivity | Satellite Adjective - positivity\n",
      "Original - inspiration | Noun - inspiration | Verb - inspiration | Adjective - inspiration | Satellite Adjective - inspiration\n",
      "Original - creativity | Noun - creativity | Verb - creativity | Adjective - creativity | Satellite Adjective - creativity\n",
      "Original - motivational | Noun - motivational | Verb - motivational | Adjective - motivational | Satellite Adjective - motivational\n"
     ]
    }
   ],
   "source": [
    "for i in new:\n",
    "    print(\"Original -\",i,\"| Noun -\",lemmas.lemmatize(i, \"n\"), \"| Verb -\",lemmas.lemmatize(i, \"v\"), \"| Adjective -\",lemmas.lemmatize(i, \"a\"), \"| Satellite Adjective -\",lemmas.lemmatize(i, \"s\"))"
   ]
  },
  {
   "cell_type": "code",
   "execution_count": 36,
   "metadata": {},
   "outputs": [],
   "source": [
    "from nltk import pos_tag"
   ]
  },
  {
   "cell_type": "code",
   "execution_count": 37,
   "metadata": {},
   "outputs": [
    {
     "data": {
      "text/plain": [
       "'Indian people or Indians are the citizens and nationals of the Republic of India.'"
      ]
     },
     "execution_count": 37,
     "metadata": {},
     "output_type": "execute_result"
    }
   ],
   "source": [
    "sentences[0]"
   ]
  },
  {
   "cell_type": "code",
   "execution_count": 38,
   "metadata": {},
   "outputs": [],
   "source": [
    "tags = pos_tag(word_tokenize(sentences[0]))\n"
   ]
  },
  {
   "cell_type": "code",
   "execution_count": 39,
   "metadata": {},
   "outputs": [
    {
     "data": {
      "text/plain": [
       "[('Indian', 'JJ'),\n",
       " ('people', 'NNS'),\n",
       " ('or', 'CC'),\n",
       " ('Indians', 'NNPS'),\n",
       " ('are', 'VBP'),\n",
       " ('the', 'DT'),\n",
       " ('citizens', 'NNS'),\n",
       " ('and', 'CC'),\n",
       " ('nationals', 'NNS'),\n",
       " ('of', 'IN'),\n",
       " ('the', 'DT'),\n",
       " ('Republic', 'NNP'),\n",
       " ('of', 'IN'),\n",
       " ('India', 'NNP'),\n",
       " ('.', '.')]"
      ]
     },
     "execution_count": 39,
     "metadata": {},
     "output_type": "execute_result"
    }
   ],
   "source": [
    "tags"
   ]
  },
  {
   "cell_type": "code",
   "execution_count": null,
   "metadata": {},
   "outputs": [],
   "source": []
  },
  {
   "cell_type": "code",
   "execution_count": null,
   "metadata": {},
   "outputs": [],
   "source": []
  },
  {
   "cell_type": "code",
   "execution_count": null,
   "metadata": {},
   "outputs": [],
   "source": []
  }
 ],
 "metadata": {
  "kernelspec": {
   "display_name": "Python 3",
   "language": "python",
   "name": "python3"
  },
  "language_info": {
   "codemirror_mode": {
    "name": "ipython",
    "version": 3
   },
   "file_extension": ".py",
   "mimetype": "text/x-python",
   "name": "python",
   "nbconvert_exporter": "python",
   "pygments_lexer": "ipython3",
   "version": "3.11.5"
  }
 },
 "nbformat": 4,
 "nbformat_minor": 2
}
